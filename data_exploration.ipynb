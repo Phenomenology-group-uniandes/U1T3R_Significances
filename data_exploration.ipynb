{
 "cells": [
  {
   "cell_type": "code",
   "execution_count": null,
   "metadata": {},
   "outputs": [],
   "source": [
    "from load_data import data, xu_masses, phi_masses, mc_names"
   ]
  },
  {
   "cell_type": "code",
   "execution_count": null,
   "metadata": {},
   "outputs": [],
   "source": [
    "# Print Distributions for firsts masses of xu and phi\n",
    "import matplotlib.pyplot as plt\n",
    "\n",
    "xu = xu_masses[0]\n",
    "phi = phi_masses[0]\n",
    "for mc in mc_names:\n",
    "    plt.hist(\n",
    "        data[f\"xu_{xu}_phi_{phi}\"][mc],\n",
    "        bins=100,\n",
    "        label=mc,\n",
    "        histtype=\"step\",\n",
    "        log=True,\n",
    "    )\n",
    "plt.legend()"
   ]
  },
  {
   "cell_type": "code",
   "execution_count": null,
   "metadata": {},
   "outputs": [],
   "source": [
    "import matplotlib.pyplot as plt\n",
    "import numpy as np\n",
    "import os\n",
    "\n",
    "def plot_xu(xu_mass):\n",
    "    # Print Distributions phi distributions for second mass of xu\n",
    "\n",
    "    n_plots = len(phi_masses)\n",
    "    xu = xu_mass\n",
    "\n",
    "    # Calculate the number of rows needed for the subplots\n",
    "    n_rows = int(np.ceil(n_plots / 2))\n",
    "\n",
    "    fig, axes = plt.subplots(n_rows, 2, figsize=(6.5, 8))\n",
    "\n",
    "    # Flatten the axes array for easy iteration\n",
    "    axes = axes.flatten()\n",
    "\n",
    "    for i, phi in enumerate(phi_masses):\n",
    "        for mc in mc_names:\n",
    "            axes[i].hist(\n",
    "                data[f\"xu_{xu}_phi_{phi}\"][mc],\n",
    "                bins=100,\n",
    "                label=mc,\n",
    "                histtype=\"step\",\n",
    "                log=True,\n",
    "            )\n",
    "        axes[i].legend()\n",
    "        axes[i].set_title(r\"$\\phi_m$ = {} GeV\".format(phi))\n",
    "\n",
    "    # Remove any unused subplots\n",
    "    if n_plots % 2 != 0:\n",
    "        fig.delaxes(axes[-1])\n",
    "\n",
    "    plt.tight_layout()\n",
    "    fig.suptitle(\"xu mass = {} GeV\".format(xu), y=1.02, fontsize=16)\n",
    "\n",
    "    #save pdf\n",
    "    plt.savefig(os.path.join(\"pdfs\", f\"xu_{xu}_GeV.pdf\"))"
   ]
  },
  {
   "cell_type": "code",
   "execution_count": null,
   "metadata": {},
   "outputs": [],
   "source": [
    "plot_xu(xu_masses[0])"
   ]
  },
  {
   "cell_type": "code",
   "execution_count": null,
   "metadata": {},
   "outputs": [],
   "source": [
    "plot_xu(xu_masses[1])"
   ]
  },
  {
   "cell_type": "code",
   "execution_count": null,
   "metadata": {},
   "outputs": [],
   "source": [
    "plot_xu(xu_masses[2])"
   ]
  },
  {
   "cell_type": "code",
   "execution_count": null,
   "metadata": {},
   "outputs": [],
   "source": [
    "plot_xu(xu_masses[3])"
   ]
  },
  {
   "cell_type": "code",
   "execution_count": null,
   "metadata": {},
   "outputs": [],
   "source": [
    "plot_xu(xu_masses[4])"
   ]
  },
  {
   "cell_type": "code",
   "execution_count": null,
   "metadata": {},
   "outputs": [],
   "source": []
  }
 ],
 "metadata": {
  "kernelspec": {
   "display_name": "Python 3",
   "language": "python",
   "name": "python3"
  },
  "language_info": {
   "codemirror_mode": {
    "name": "ipython",
    "version": 3
   },
   "file_extension": ".py",
   "mimetype": "text/x-python",
   "name": "python",
   "nbconvert_exporter": "python",
   "pygments_lexer": "ipython3",
   "version": "3.10.12"
  }
 },
 "nbformat": 4,
 "nbformat_minor": 2
}
