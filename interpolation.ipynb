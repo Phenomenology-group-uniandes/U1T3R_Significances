{
 "cells": [
  {
   "cell_type": "code",
   "execution_count": 12,
   "metadata": {},
   "outputs": [],
   "source": [
    "from load_data import data, data_path, xu_masses, phi_masses, mc_names"
   ]
  },
  {
   "cell_type": "code",
   "execution_count": 13,
   "metadata": {},
   "outputs": [
    {
     "name": "stdout",
     "output_type": "stream",
     "text": [
      "Model: alpha\n",
      "Xu Mass: 2000\n",
      "Phi Mass: 325\n",
      "MC: ttbarmumumunu\n",
      "Tail Uncertainty: 10.0%\n"
     ]
    }
   ],
   "source": [
    "import scipy.stats as stats\n",
    "\n",
    "model = stats.alpha\n",
    "xu_mass = xu_masses[4]\n",
    "phi_mass = phi_masses[5]\n",
    "mc = mc_names[2]\n",
    "tail_uncert = 0.1\n",
    "global_weight = 1 - 0 * tail_uncert\n",
    "print(f\"Model: {model.name}\")\n",
    "print(f\"Xu Mass: {xu_mass}\")\n",
    "print(f\"Phi Mass: {phi_mass}\")\n",
    "print(f\"MC: {mc}\")\n",
    "print(f\"Tail Uncertainty: {tail_uncert*100}%\")"
   ]
  },
  {
   "cell_type": "code",
   "execution_count": 14,
   "metadata": {},
   "outputs": [
    {
     "data": {
      "text/html": [
       "<div>\n",
       "<style scoped>\n",
       "    .dataframe tbody tr th:only-of-type {\n",
       "        vertical-align: middle;\n",
       "    }\n",
       "\n",
       "    .dataframe tbody tr th {\n",
       "        vertical-align: top;\n",
       "    }\n",
       "\n",
       "    .dataframe thead th {\n",
       "        text-align: right;\n",
       "    }\n",
       "</style>\n",
       "<table border=\"1\" class=\"dataframe\">\n",
       "  <thead>\n",
       "    <tr style=\"text-align: right;\">\n",
       "      <th></th>\n",
       "      <th>signal</th>\n",
       "      <th>ttbarmumu</th>\n",
       "      <th>ttbarmumumunu</th>\n",
       "    </tr>\n",
       "  </thead>\n",
       "  <tbody>\n",
       "    <tr>\n",
       "      <th>0</th>\n",
       "      <td>0.998173</td>\n",
       "      <td>0.000109</td>\n",
       "      <td>0.000000</td>\n",
       "    </tr>\n",
       "    <tr>\n",
       "      <th>1</th>\n",
       "      <td>1.000000</td>\n",
       "      <td>0.000484</td>\n",
       "      <td>0.000000</td>\n",
       "    </tr>\n",
       "    <tr>\n",
       "      <th>2</th>\n",
       "      <td>1.000000</td>\n",
       "      <td>0.000235</td>\n",
       "      <td>0.000114</td>\n",
       "    </tr>\n",
       "    <tr>\n",
       "      <th>3</th>\n",
       "      <td>0.994849</td>\n",
       "      <td>0.000223</td>\n",
       "      <td>0.001148</td>\n",
       "    </tr>\n",
       "    <tr>\n",
       "      <th>4</th>\n",
       "      <td>1.000000</td>\n",
       "      <td>0.000000</td>\n",
       "      <td>0.000000</td>\n",
       "    </tr>\n",
       "  </tbody>\n",
       "</table>\n",
       "</div>"
      ],
      "text/plain": [
       "     signal  ttbarmumu  ttbarmumumunu\n",
       "0  0.998173   0.000109       0.000000\n",
       "1  1.000000   0.000484       0.000000\n",
       "2  1.000000   0.000235       0.000114\n",
       "3  0.994849   0.000223       0.001148\n",
       "4  1.000000   0.000000       0.000000"
      ]
     },
     "execution_count": 14,
     "metadata": {},
     "output_type": "execute_result"
    }
   ],
   "source": [
    "import pandas as pd\n",
    "\n",
    "df_name = f\"xu_{xu_mass}_phi_{phi_mass}\"\n",
    "df = pd.DataFrame(data[df_name])\n",
    "\n",
    "\n",
    "def inv(x: float) -> float:\n",
    "    return 1.0 - x\n",
    "\n",
    "\n",
    "if mc != \"signal\":\n",
    "    df = df.apply(inv)\n",
    "df.head()"
   ]
  },
  {
   "cell_type": "code",
   "execution_count": 15,
   "metadata": {},
   "outputs": [
    {
     "name": "stderr",
     "output_type": "stream",
     "text": [
      "Warning in <TROOT::Append>: Replacing existing TH1: ttbarmumumunu (Potential memory leak).\n",
      "Warning in <TCanvas::Constructor>: Deleting canvas with same name: canvas\n"
     ]
    }
   ],
   "source": [
    "import ROOT\n",
    "\n",
    "n_bins = 50\n",
    "title = f\"m_{{\\chi u}}={xu_mass}GeV, m_{{\\phi}}={phi_mass}GeV\"\n",
    "histo = ROOT.TH1F(mc, title, n_bins, 0, 1)\n",
    "canvas = ROOT.TCanvas(\"canvas\", \"canvas\", 800, 600)\n",
    "canvas.SetLogy()\n",
    "[histo.Fill(x) for x in df[mc]]\n",
    "n_events = histo.Integral()\n",
    "histo.Scale(1 / histo.Integral())"
   ]
  },
  {
   "cell_type": "code",
   "execution_count": 16,
   "metadata": {},
   "outputs": [
    {
     "name": "stdout",
     "output_type": "stream",
     "text": [
      "n_empty_bins: 5\n"
     ]
    }
   ],
   "source": [
    "n_empty_bins = sum(\n",
    "    [1 for i in range(n_bins) if histo.GetBinContent(i + 1) == 0]\n",
    ")\n",
    "print(f\"n_empty_bins: {n_empty_bins}\")"
   ]
  },
  {
   "cell_type": "code",
   "execution_count": 17,
   "metadata": {},
   "outputs": [
    {
     "data": {
      "image/png": "[encoded data removed]",
      "text/plain": [
       "<IPython.core.display.Image object>"
      ]
     },
     "metadata": {},
     "output_type": "display_data"
    }
   ],
   "source": [
    "histo.Draw()\n",
    "canvas.Draw()"
   ]
  },
  {
   "cell_type": "code",
   "execution_count": 18,
   "metadata": {},
   "outputs": [
    {
     "name": "stdout",
     "output_type": "stream",
     "text": [
      "fit bin:  17 threshold:  0.34\n"
     ]
    },
    {
     "name": "stderr",
     "output_type": "stream",
     "text": [
      "Warning in <TROOT::Append>: Replacing existing TH1: inter_histo (Potential memory leak).\n",
      "Warning in <TROOT::Append>: Replacing existing TH1: aux_histo (Potential memory leak).\n"
     ]
    },
    {
     "data": {
      "image/png": "[encoded data removed]",
      "text/plain": [
       "<IPython.core.display.Image object>"
      ]
     },
     "metadata": {},
     "output_type": "display_data"
    }
   ],
   "source": [
    "params = model.fit(df[mc])\n",
    "\n",
    "x = [histo.GetBinCenter(bin + 1) for bin in range(n_bins)]\n",
    "inter_histo = ROOT.TH1F(\"inter_histo\", title, n_bins, 0, 1)\n",
    "fill_inter_histo = [\n",
    "    inter_histo.SetBinContent(bin + 1, model.pdf(x[bin], *params))\n",
    "    for bin in range(n_bins)\n",
    "]\n",
    "# scale by the tail normalization\n",
    "fit_bin = 0\n",
    "aux_histo = ROOT.TH1F(\"aux_histo\", title, n_bins, 0, 1)\n",
    "bin_width = histo.GetBinWidth(1)\n",
    "# get the first bin where the tail have a relative error greater\n",
    "# than tail_uncert\n",
    "for bin in range(n_bins):\n",
    "    threshold = 0 + bin * bin_width\n",
    "    [\n",
    "        aux_histo.Fill(histo.GetBinCenter(bin + 1))\n",
    "        for x in df[mc]\n",
    "        if x > threshold\n",
    "    ]\n",
    "    I = aux_histo.GetBinContent(bin + 1)\n",
    "    err = aux_histo.GetBinError(bin + 1)\n",
    "    if err / I >= tail_uncert:\n",
    "        fit_bin = bin\n",
    "        break\n",
    "print(\"fit bin: \", fit_bin, \"threshold: \", threshold)\n",
    "\n",
    "inter_histo.Scale(\n",
    "    histo.Integral(fit_bin + 1, histo.GetNbinsX())\n",
    "    / inter_histo.Integral(fit_bin + 1, inter_histo.GetNbinsX())\n",
    ")\n",
    "inter_histo.SetLineColor(ROOT.kRed)\n",
    "histo.SetMinimum(inter_histo.GetMinimum())\n",
    "histo.SetLineColor(ROOT.kGreen)\n",
    "inter_histo.Draw(\"hist same\")\n",
    "histo.Draw(\"same\")\n",
    "canvas.Draw()"
   ]
  },
  {
   "cell_type": "code",
   "execution_count": 19,
   "metadata": {},
   "outputs": [
    {
     "name": "stdout",
     "output_type": "stream",
     "text": [
      "The tail has been replaced by the fit\n",
      "Integral: 1.0000630124650343\n"
     ]
    },
    {
     "name": "stderr",
     "output_type": "stream",
     "text": [
      "Warning in <TROOT::Append>: Replacing existing TH1: new_histo (Potential memory leak).\n"
     ]
    }
   ],
   "source": [
    "new_histo = ROOT.TH1F(\"new_histo\", title, n_bins, 0, 1)\n",
    "\n",
    "\n",
    "for bin in range(n_bins):\n",
    "    if bin < fit_bin:\n",
    "        new_histo.SetBinContent(bin + 1, histo.GetBinContent(bin + 1))\n",
    "    elif histo.GetBinContent(bin + 1) == 0:\n",
    "        new_histo.SetBinContent(bin + 1, inter_histo.GetBinContent(bin + 1))\n",
    "    else:\n",
    "        I = histo.GetBinContent(bin + 1)\n",
    "        err = histo.GetBinError(bin + 1)\n",
    "        weight = global_weight * err / I\n",
    "        new_histo.SetBinContent(\n",
    "            bin + 1,\n",
    "            histo.GetBinContent(bin + 1) * (1 - weight)\n",
    "            + inter_histo.GetBinContent(bin + 1) * (weight),\n",
    "        )\n",
    "print(\"The tail has been replaced by the fit\")\n",
    "print(f\"Integral: {new_histo.Integral()}\")"
   ]
  },
  {
   "cell_type": "code",
   "execution_count": 20,
   "metadata": {},
   "outputs": [
    {
     "data": {
      "image/png": "[encoded data removed]",
      "text/plain": [
       "<IPython.core.display.Image object>"
      ]
     },
     "metadata": {},
     "output_type": "display_data"
    }
   ],
   "source": [
    "new_histo.SetLineColor(ROOT.kBlue)\n",
    "\n",
    "new_histo.Scale(1 / new_histo.Integral())\n",
    "new_histo.Draw(\"hist same\")\n",
    "histo.SetMinimum(min(histo.GetMinimum(), new_histo.GetMinimum()))\n",
    "legend = ROOT.TLegend(0.5, 0.8, 0.7, 0.9)\n",
    "legend.AddEntry(histo, \"Original\", \"lep\")\n",
    "legend.AddEntry(inter_histo, f\"{model.name} tail\", \"l\")\n",
    "legend.AddEntry(new_histo, \"New histo\", \"l\")\n",
    "# Draw Threshold\n",
    "line = ROOT.TLine(threshold, 0, threshold, histo.GetMaximum())\n",
    "line.SetLineColor(ROOT.kGray)\n",
    "line.SetLineWidth(2)\n",
    "line.Draw()\n",
    "legend.Draw()\n",
    "canvas.Draw()"
   ]
  },
  {
   "cell_type": "code",
   "execution_count": 21,
   "metadata": {},
   "outputs": [
    {
     "name": "stderr",
     "output_type": "stream",
     "text": [
      "Info in <TCanvas::Print>: png file /workspaces/stats_intro/images/xu_2000_GeV/phi_325_GeV/ttbarmumumunu_hist.png has been created\n",
      "Info in <TCanvas::Print>: png file /workspaces/stats_intro/last_plot.png has been created\n"
     ]
    }
   ],
   "source": [
    "# Save histogram in dat file\n",
    "import numpy as np\n",
    "import os\n",
    "\n",
    "histo_dat = np.array(\n",
    "    [\n",
    "        (\n",
    "            [new_histo.GetBinCenter(bin + 1), new_histo.GetBinContent(bin + 1)]\n",
    "            if mc == \"signal\"\n",
    "            else [\n",
    "                new_histo.GetBinCenter(n_bins - bin),\n",
    "                new_histo.GetBinContent(bin + 1),\n",
    "            ]\n",
    "        )\n",
    "        for bin in range(n_bins)\n",
    "    ]\n",
    ")\n",
    "hist_dir = os.path.join(\n",
    "    data_path,\n",
    "    f\"xu_{xu_mass}_GeV\",\n",
    "    f\"phi_{phi_mass}_GeV\",\n",
    "    f\"{mc}_hist.dat\",\n",
    ")\n",
    "np.savetxt(hist_dir, histo_dat)\n",
    "plt_dir = hist_dir.replace(\"data\", \"images\").replace(\".dat\", \".png\")\n",
    "# create directory if it does not exist\n",
    "os.makedirs(os.path.dirname(plt_dir), exist_ok=True)\n",
    "canvas.SaveAs(plt_dir)\n",
    "canvas.SaveAs(os.path.join(os.getcwd(), \"last_plot.png\"))"
   ]
  },
  {
   "cell_type": "code",
   "execution_count": 22,
   "metadata": {},
   "outputs": [
    {
     "data": {
      "image/png": "[encoded data removed]",
      "text/plain": [
       "<IPython.core.display.Image object>"
      ]
     },
     "metadata": {},
     "output_type": "display_data"
    }
   ],
   "source": [
    "new_histo.Draw(\"hist\")\n",
    "canvas.Draw()"
   ]
  }
 ],
 "metadata": {
  "kernelspec": {
   "display_name": "Python 3",
   "language": "python",
   "name": "python3"
  },
  "language_info": {
   "codemirror_mode": {
    "name": "ipython",
    "version": 3
   },
   "file_extension": ".py",
   "mimetype": "text/x-python",
   "name": "python",
   "nbconvert_exporter": "python",
   "pygments_lexer": "ipython3",
   "version": "3.10.12"
  }
 },
 "nbformat": 4,
 "nbformat_minor": 2
}
