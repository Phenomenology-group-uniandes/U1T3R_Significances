{
 "cells": [
  {
   "cell_type": "code",
   "execution_count": 1,
   "metadata": {},
   "outputs": [
    {
     "name": "stdout",
     "output_type": "stream",
     "text": [
      "Loading data from /home/c.rodriguez45/github/U1T3R_Significances/data\n",
      "Done!\n"
     ]
    }
   ],
   "source": [
    "# Load the data\n",
    "import os\n",
    "import pandas as pd\n",
    "import pickle\n",
    "\n",
    "xu_masses = [500, 750, 1000, 1500, 2000, 2500]  # GeV\n",
    "phi_masses = [1, 5, 10, 50, 100, 325]  # GeV\n",
    "mc_names = [\"signal\", \"ttbarmumu\", \"ttbarmumumunu\"]\n",
    "\n",
    "data_path = os.path.join(os.getcwd(), \"data\")\n",
    "print(\"Loading data from\", data_path)\n",
    "\n",
    "data = {\n",
    "    \"xu_{}_phi_{}\".format(xu_mass, phi_mass): {\n",
    "        f\"{mc}\": pd.read_csv(\n",
    "            os.path.join(\n",
    "                data_path,\n",
    "                f\"xu_{xu_mass}_GeV\",\n",
    "                f\"phi_{phi_mass}_GeV\",\n",
    "                f\"{mc}_hist.dat\",\n",
    "            ),\n",
    "            sep=\" \",\n",
    "            names=[\"bin_center\", \"bin_content\"],\n",
    "            header=None,\n",
    "        )\n",
    "        for mc in mc_names\n",
    "    }\n",
    "    for xu_mass in xu_masses\n",
    "    for phi_mass in phi_masses\n",
    "}\n",
    "print(\"Done!\")"
   ]
  },
  {
   "cell_type": "code",
   "execution_count": 2,
   "metadata": {},
   "outputs": [],
   "source": [
    "from itertools import product\n",
    "\n",
    "# This transformation was necessary due to a data storage error.\n",
    "# Originally, the data was stored in a way that the 'bin_center' values were in\n",
    "#  reverse order and the 'bin_content' values were stored as their complements\n",
    "# (i.e., 1 - original value), and in the wrong bin order.\n",
    "for key, mc in product(data.keys(), mc_names):\n",
    "    if mc == \"signal\":\n",
    "        continue\n",
    "    if \"2500\" in key :\n",
    "        transformed_data = [\n",
    "            [\n",
    "                data[key][mc][\"bin_center\"][49 - x],\n",
    "                1 - data[key][mc][\"bin_content\"][49 - x],\n",
    "            ]\n",
    "            for x in range(50)\n",
    "        ]\n",
    "    else : \n",
    "        transformed_data = [\n",
    "            [\n",
    "                data[key][mc][\"bin_center\"][49 - x],\n",
    "                1 - data[key][mc][\"bin_content\"][x],\n",
    "            ]\n",
    "            for x in range(50)\n",
    "        ]\n",
    "    data[key][mc] = pd.DataFrame(\n",
    "        transformed_data, columns=[\"bin_center\", \"bin_content\"]\n",
    "    )"
   ]
  },
  {
   "cell_type": "code",
   "execution_count": 3,
   "metadata": {},
   "outputs": [
    {
     "data": {
      "text/html": [
       "<div>\n",
       "<style scoped>\n",
       "    .dataframe tbody tr th:only-of-type {\n",
       "        vertical-align: middle;\n",
       "    }\n",
       "\n",
       "    .dataframe tbody tr th {\n",
       "        vertical-align: top;\n",
       "    }\n",
       "\n",
       "    .dataframe thead th {\n",
       "        text-align: right;\n",
       "    }\n",
       "</style>\n",
       "<table border=\"1\" class=\"dataframe\">\n",
       "  <thead>\n",
       "    <tr style=\"text-align: right;\">\n",
       "      <th></th>\n",
       "      <th>bin_center</th>\n",
       "      <th>bin_content</th>\n",
       "    </tr>\n",
       "  </thead>\n",
       "  <tbody>\n",
       "    <tr>\n",
       "      <th>0</th>\n",
       "      <td>0.01</td>\n",
       "      <td>0.000006</td>\n",
       "    </tr>\n",
       "    <tr>\n",
       "      <th>1</th>\n",
       "      <td>0.03</td>\n",
       "      <td>0.000007</td>\n",
       "    </tr>\n",
       "    <tr>\n",
       "      <th>2</th>\n",
       "      <td>0.05</td>\n",
       "      <td>0.000007</td>\n",
       "    </tr>\n",
       "    <tr>\n",
       "      <th>3</th>\n",
       "      <td>0.07</td>\n",
       "      <td>0.000007</td>\n",
       "    </tr>\n",
       "    <tr>\n",
       "      <th>4</th>\n",
       "      <td>0.09</td>\n",
       "      <td>0.000008</td>\n",
       "    </tr>\n",
       "  </tbody>\n",
       "</table>\n",
       "</div>"
      ],
      "text/plain": [
       "   bin_center  bin_content\n",
       "0        0.01     0.000006\n",
       "1        0.03     0.000007\n",
       "2        0.05     0.000007\n",
       "3        0.07     0.000007\n",
       "4        0.09     0.000008"
      ]
     },
     "execution_count": 3,
     "metadata": {},
     "output_type": "execute_result"
    }
   ],
   "source": [
    "data[\"xu_2500_phi_325\"][\"ttbarmumu\"].head()\n"
   ]
  },
  {
   "cell_type": "code",
   "execution_count": 4,
   "metadata": {},
   "outputs": [],
   "source": [
    "merged_data = {}\n",
    "for key in data:\n",
    "    merged_df = pd.merge(\n",
    "        data[key][\"signal\"], data[key][\"ttbarmumu\"], on=\"bin_center\"\n",
    "    )\n",
    "    merged_df = pd.merge(\n",
    "        merged_df, data[key][\"ttbarmumumunu\"], on=\"bin_center\"\n",
    "    )\n",
    "    merged_df.columns = [\"bin_center\", \"signal\", \"ttbarmumu\", \"ttbarmumumunu\"]\n",
    "    merged_data[key] = merged_df\n",
    "\n"
   ]
  },
  {
   "cell_type": "code",
   "execution_count": 5,
   "metadata": {},
   "outputs": [
    {
     "name": "stdout",
     "output_type": "stream",
     "text": [
      "   bin_center    signal  ttbarmumu  ttbarmumumunu\n",
      "0        0.01  0.996261   0.000021   1.151861e-07\n",
      "1        0.03  0.001830   0.000009   1.175761e-07\n",
      "2        0.05  0.000550   0.000010   1.200624e-07\n",
      "3        0.07  0.000270   0.000010   1.226509e-07\n",
      "4        0.09  0.000250   0.000010   1.253482e-07\n",
      "    bin_center    signal  ttbarmumu  ttbarmumumunu\n",
      "45        0.91  0.000002   0.000044       0.000001\n",
      "46        0.93  0.000002   0.000040       0.000001\n",
      "47        0.95  0.000002   0.000170       0.000002\n",
      "48        0.97  0.000002   0.000440       0.000010\n",
      "49        0.99  0.000002   0.998468       0.999973\n"
     ]
    }
   ],
   "source": [
    "print(merged_data[\"xu_500_phi_1\"].head())\n",
    "print(merged_data[\"xu_500_phi_1\"].tail())"
   ]
  },
  {
   "cell_type": "code",
   "execution_count": 6,
   "metadata": {},
   "outputs": [],
   "source": [
    "from io import StringIO\n",
    "import pandas as pd\n",
    "data = \"\"\"\n",
    "0.1292000000\t0.0613100000\t0.0299900000\t0.0073040000\t0.0016790000\t0.0004024\n",
    "0.1291000000\t0.0612500000\t0.0299600000\t0.0072960000\t0.0016760000\t0.0004024\n",
    "0.1291000000\t0.0612400000\t0.0299500000\t0.0072960000\t0.0016740000\t0.0004132\n",
    "0.1262000000\t0.0606400000\t0.0298000000\t0.0072800000\t0.0016710000\t0.0004012\n",
    "0.1172000000\t0.0589500000\t0.0293400000\t0.0072260000\t0.0016650000\t0.0004000\n",
    "0.0089690000\t0.0388800000\t0.0237400000\t0.0066090000\t0.0015850000\t0.0003100\n",
    "\"\"\"\n",
    "\n",
    "# Read the data into a DataFrame\n",
    "xs_df = pd.read_csv(StringIO(data), sep=\"\\t\", header=None)\n",
    "\n",
    "# Set the column names to the xu masses\n",
    "xs_df.columns = [f\"xu_{int(x)}_GeV\" for x in xu_masses]\n",
    "\n",
    "# Set the index to the phi masses\n",
    "xs_df.index = [f\"phi_{x}_GeV\" for x in phi_masses]\n",
    "\n",
    "# Save the DataFrame to a pickle file\n",
    "with open(os.path.join(data_path, \"cross_sections.pkl\"), \"wb\") as f:\n",
    "    pickle.dump(xs_df, f)"
   ]
  },
  {
   "cell_type": "code",
   "execution_count": 7,
   "metadata": {},
   "outputs": [],
   "source": [
    "lumino = 150 / 1e-3  # 1/fb to 1/pb\n",
    "eff = 1.0  # Assume 100% efficiency for now\n",
    "mc_names = [\"signal\", \"ttbarmumu\", \"ttbarmumumunu\"]\n",
    "for xu_mass, phi_mass in product(xu_masses, phi_masses):\n",
    "    xs_dict = {}\n",
    "    xs_dict[\"signal\"] = xs_df.loc[\n",
    "        f\"phi_{phi_mass}_GeV\", f\"xu_{xu_mass}_GeV\"\n",
    "    ]  # pb\n",
    "    xs_dict[\"ttbarmumu\"] = 0.002574  # pb\n",
    "    xs_dict[\"ttbarmumumunu\"] = 0.0004692  # pb\n",
    "\n",
    "    for mc in mc_names:\n",
    "        merged_data[f\"xu_{xu_mass}_phi_{phi_mass}\"][mc] *= (\n",
    "            xs_dict[mc] * lumino * eff\n",
    "        )\n",
    "    merged_data[f\"xu_{xu_mass}_phi_{phi_mass}\"][\"background\"] = (\n",
    "        merged_data[f\"xu_{xu_mass}_phi_{phi_mass}\"][\"ttbarmumu\"]\n",
    "        + merged_data[f\"xu_{xu_mass}_phi_{phi_mass}\"][\"ttbarmumumunu\"]\n",
    "    )\n",
    "\n",
    "# Save the data\n",
    "with open(os.path.join(data_path, \"histograms.pkl\"), \"wb\") as f:\n",
    "    pickle.dump(merged_data, f)"
   ]
  },
  {
   "cell_type": "code",
   "execution_count": 8,
   "metadata": {},
   "outputs": [
    {
     "name": "stdout",
     "output_type": "stream",
     "text": [
      "   bin_center     signal  ttbarmumu  ttbarmumumunu  background\n",
      "0        0.01  58.724246   0.003314       0.000373    0.003686\n",
      "1        0.03   0.722413   0.004702       0.000388    0.005091\n",
      "2        0.05   0.277619   0.003599       0.000405    0.004003\n",
      "3        0.07   0.151483   0.003755       0.000422    0.004177\n",
      "4        0.09   0.094149   0.003922       0.000441    0.004363\n",
      "    bin_center    signal   ttbarmumu  ttbarmumumunu  background\n",
      "45        0.91  0.001173    0.335886       0.035188    0.371074\n",
      "46        0.93  0.001123    0.544368       0.049263    0.593630\n",
      "47        0.95  0.001076    0.803039       0.104155    0.907194\n",
      "48        0.97  0.001032    2.250825       0.242794    2.493619\n",
      "49        0.99  0.000991  380.817975      69.798786  450.616761\n"
     ]
    }
   ],
   "source": [
    "print(merged_data[\"xu_2500_phi_1\"].head())\n",
    "print(merged_data[\"xu_2500_phi_1\"].tail())"
   ]
  },
  {
   "cell_type": "code",
   "execution_count": null,
   "metadata": {},
   "outputs": [],
   "source": []
  },
  {
   "cell_type": "code",
   "execution_count": null,
   "metadata": {},
   "outputs": [],
   "source": []
  }
 ],
 "metadata": {
  "kernelspec": {
   "display_name": "Python 3",
   "language": "python",
   "name": "python3"
  },
  "language_info": {
   "codemirror_mode": {
    "name": "ipython",
    "version": 3
   },
   "file_extension": ".py",
   "mimetype": "text/x-python",
   "name": "python",
   "nbconvert_exporter": "python",
   "pygments_lexer": "ipython3",
   "version": "3.11.8"
  }
 },
 "nbformat": 4,
 "nbformat_minor": 2
}
