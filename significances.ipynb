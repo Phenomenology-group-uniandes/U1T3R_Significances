{
 "cells": [
  {
   "cell_type": "markdown",
   "metadata": {},
   "source": [
    "We are asumming, the significance:\n",
    "$$\n",
    "\\kappa=\\frac{\\sum s_i w_i-N \\sqrt{\\sum b_i w_i^2}}{\\sqrt{\\sum\\left(s_i+b_i\\right) w_i^2}}\n",
    "$$\n",
    "where $s_i$ and $b_i$ are the number of signal and background events in the $i$-th bin, and $w_i$ is the weight of the $i$-th bin. The weights are defined as:\n",
    "$$\n",
    "w_i=\\ln \\left(1+\\frac{s_i}{b_i}\\right)\n",
    "$$\n",
    "\n",
    "Note that for a single bin and strong signal, the optimized power of analysis is:\n",
    "$$\n",
    "\\kappa=\\frac{s}{\\sqrt{s+b}}\n",
    "$$"
   ]
  },
  {
   "cell_type": "code",
   "execution_count": 17,
   "metadata": {},
   "outputs": [],
   "source": [
    "import numpy as np\n",
    "\n",
    "\n",
    "def approx_global_sig(sig: np.array, bkg: np.array, N: float = 0.0) -> float:\n",
    "    \"\"\"\n",
    "    Calculates the statistical significance of a signal over background in a given\n",
    "    dataset using a modified version of the formula (S -N sqrt(B))/sqrt(S+B),\n",
    "    where S is the number of signal events, B is the number of background events,\n",
    "    and N is the expected number of background sigmas in the signal region.\n",
    "\n",
    "    Parameters:\n",
    "    sig (np.array): Array containing the number of signal events in each bin.\n",
    "    bkg (np.array): Array containing the number of background events in each bin.\n",
    "    N (float): Expected number of background events in the signal region.\n",
    "        Default value is 0.0.\n",
    "\n",
    "    Returns:\n",
    "    float: The statistical significance of the signal.\n",
    "    \"\"\"\n",
    "    # Calculate weight factor w for each bin\n",
    "    w = np.log(1.0 + sig / (bkg + 1e-9))\n",
    "\n",
    "    # Calculate intermediate quantities\n",
    "    s_w = sig * w\n",
    "    b_w = bkg * w\n",
    "    s_ww = sig * w**2\n",
    "    b_ww = bkg * w**2\n",
    "\n",
    "    # Calculate numerator and denominator of modified formula\n",
    "    num = np.sum(s_w) - N * np.sqrt(np.sum(b_ww))\n",
    "    den = np.sqrt(np.sum(s_ww + b_ww))\n",
    "\n",
    "    # Calculate statistical significance and return it\n",
    "    return num / den"
   ]
  },
  {
   "cell_type": "code",
   "execution_count": 18,
   "metadata": {},
   "outputs": [
    {
     "data": {
      "text/html": [
       "<div>\n",
       "<style scoped>\n",
       "    .dataframe tbody tr th:only-of-type {\n",
       "        vertical-align: middle;\n",
       "    }\n",
       "\n",
       "    .dataframe tbody tr th {\n",
       "        vertical-align: top;\n",
       "    }\n",
       "\n",
       "    .dataframe thead th {\n",
       "        text-align: right;\n",
       "    }\n",
       "</style>\n",
       "<table border=\"1\" class=\"dataframe\">\n",
       "  <thead>\n",
       "    <tr style=\"text-align: right;\">\n",
       "      <th></th>\n",
       "      <th>bin_center</th>\n",
       "      <th>signal</th>\n",
       "      <th>ttbarmumu</th>\n",
       "      <th>ttbarmumumunu</th>\n",
       "      <th>background</th>\n",
       "    </tr>\n",
       "  </thead>\n",
       "  <tbody>\n",
       "    <tr>\n",
       "      <th>0</th>\n",
       "      <td>0.01</td>\n",
       "      <td>4463.592229</td>\n",
       "      <td>0.005117</td>\n",
       "      <td>0.000004</td>\n",
       "      <td>0.005121</td>\n",
       "    </tr>\n",
       "    <tr>\n",
       "      <th>1</th>\n",
       "      <td>0.03</td>\n",
       "      <td>16.598630</td>\n",
       "      <td>0.005141</td>\n",
       "      <td>0.000005</td>\n",
       "      <td>0.005146</td>\n",
       "    </tr>\n",
       "    <tr>\n",
       "      <th>2</th>\n",
       "      <td>0.05</td>\n",
       "      <td>9.176478</td>\n",
       "      <td>0.002950</td>\n",
       "      <td>0.000005</td>\n",
       "      <td>0.002955</td>\n",
       "    </tr>\n",
       "    <tr>\n",
       "      <th>3</th>\n",
       "      <td>0.07</td>\n",
       "      <td>2.114189</td>\n",
       "      <td>0.002988</td>\n",
       "      <td>0.000005</td>\n",
       "      <td>0.002993</td>\n",
       "    </tr>\n",
       "    <tr>\n",
       "      <th>4</th>\n",
       "      <td>0.09</td>\n",
       "      <td>0.944637</td>\n",
       "      <td>0.002669</td>\n",
       "      <td>0.000005</td>\n",
       "      <td>0.002675</td>\n",
       "    </tr>\n",
       "  </tbody>\n",
       "</table>\n",
       "</div>"
      ],
      "text/plain": [
       "   bin_center       signal  ttbarmumu  ttbarmumumunu  background\n",
       "0        0.01  4463.592229   0.005117       0.000004    0.005121\n",
       "1        0.03    16.598630   0.005141       0.000005    0.005146\n",
       "2        0.05     9.176478   0.002950       0.000005    0.002955\n",
       "3        0.07     2.114189   0.002988       0.000005    0.002993\n",
       "4        0.09     0.944637   0.002669       0.000005    0.002675"
      ]
     },
     "execution_count": 18,
     "metadata": {},
     "output_type": "execute_result"
    }
   ],
   "source": [
    "from load_data import histograms, xu_masses, phi_masses\n",
    "\n",
    "histograms[\"xu_1000_phi_1\"].head()\n",
    "# histograms[\"xu_1000_phi_1\"].tail()"
   ]
  },
  {
   "cell_type": "code",
   "execution_count": 19,
   "metadata": {},
   "outputs": [
    {
     "data": {
      "text/html": [
       "<div>\n",
       "<style scoped>\n",
       "    .dataframe tbody tr th:only-of-type {\n",
       "        vertical-align: middle;\n",
       "    }\n",
       "\n",
       "    .dataframe tbody tr th {\n",
       "        vertical-align: top;\n",
       "    }\n",
       "\n",
       "    .dataframe thead th {\n",
       "        text-align: right;\n",
       "    }\n",
       "</style>\n",
       "<table border=\"1\" class=\"dataframe\">\n",
       "  <thead>\n",
       "    <tr style=\"text-align: right;\">\n",
       "      <th></th>\n",
       "      <th>xu_500_GeV</th>\n",
       "      <th>xu_750_GeV</th>\n",
       "      <th>xu_1000_GeV</th>\n",
       "      <th>xu_1500_GeV</th>\n",
       "      <th>xu_2000_GeV</th>\n",
       "    </tr>\n",
       "  </thead>\n",
       "  <tbody>\n",
       "    <tr>\n",
       "      <th>phi_1_GeV</th>\n",
       "      <td>139.151001</td>\n",
       "      <td>95.839057</td>\n",
       "      <td>67.010176</td>\n",
       "      <td>33.039877</td>\n",
       "      <td>15.841746</td>\n",
       "    </tr>\n",
       "    <tr>\n",
       "      <th>phi_5_GeV</th>\n",
       "      <td>139.013688</td>\n",
       "      <td>95.573418</td>\n",
       "      <td>66.917455</td>\n",
       "      <td>33.008692</td>\n",
       "      <td>15.821794</td>\n",
       "    </tr>\n",
       "    <tr>\n",
       "      <th>phi_10_GeV</th>\n",
       "      <td>138.368822</td>\n",
       "      <td>95.464988</td>\n",
       "      <td>66.778992</td>\n",
       "      <td>32.98825</td>\n",
       "      <td>15.801283</td>\n",
       "    </tr>\n",
       "    <tr>\n",
       "      <th>phi_50_GeV</th>\n",
       "      <td>135.259948</td>\n",
       "      <td>94.203149</td>\n",
       "      <td>66.263162</td>\n",
       "      <td>32.860808</td>\n",
       "      <td>15.719156</td>\n",
       "    </tr>\n",
       "    <tr>\n",
       "      <th>phi_100_GeV</th>\n",
       "      <td>128.904564</td>\n",
       "      <td>91.980948</td>\n",
       "      <td>65.31539</td>\n",
       "      <td>32.582499</td>\n",
       "      <td>15.685688</td>\n",
       "    </tr>\n",
       "    <tr>\n",
       "      <th>phi_325_GeV</th>\n",
       "      <td>35.880618</td>\n",
       "      <td>75.519194</td>\n",
       "      <td>59.142255</td>\n",
       "      <td>31.284624</td>\n",
       "      <td>15.338968</td>\n",
       "    </tr>\n",
       "  </tbody>\n",
       "</table>\n",
       "</div>"
      ],
      "text/plain": [
       "             xu_500_GeV xu_750_GeV xu_1000_GeV xu_1500_GeV xu_2000_GeV\n",
       "phi_1_GeV    139.151001  95.839057   67.010176   33.039877   15.841746\n",
       "phi_5_GeV    139.013688  95.573418   66.917455   33.008692   15.821794\n",
       "phi_10_GeV   138.368822  95.464988   66.778992    32.98825   15.801283\n",
       "phi_50_GeV   135.259948  94.203149   66.263162   32.860808   15.719156\n",
       "phi_100_GeV  128.904564  91.980948    65.31539   32.582499   15.685688\n",
       "phi_325_GeV   35.880618  75.519194   59.142255   31.284624   15.338968"
      ]
     },
     "execution_count": 19,
     "metadata": {},
     "output_type": "execute_result"
    }
   ],
   "source": [
    "import pandas as pd\n",
    "from itertools import product\n",
    "\n",
    "# DataFrame to store the significance values\n",
    "significances = pd.DataFrame(index=phi_masses, columns=xu_masses)\n",
    "\n",
    "# Calculate the significance for each bin\n",
    "for x, y in product(xu_masses, phi_masses):\n",
    "    sig = histograms[f\"xu_{x}_phi_{y}\"][\"signal\"]\n",
    "    bkg = histograms[f\"xu_{x}_phi_{y}\"][\"background\"]\n",
    "    significances.at[y, x] = approx_global_sig(sig, bkg)\n",
    "\n",
    "significances.columns = [f\"xu_{int(x)}_GeV\" for x in xu_masses]\n",
    "significances.index = [f\"phi_{int(x)}_GeV\" for x in phi_masses]\n",
    "significances"
   ]
  },
  {
   "cell_type": "code",
   "execution_count": 21,
   "metadata": {},
   "outputs": [
    {
     "data": {
      "text/plain": [
       "(<Figure size 640x480 with 2 Axes>, <Axes: >, 0)"
      ]
     },
     "execution_count": 21,
     "metadata": {},
     "output_type": "execute_result"
    },
    {
     "data": {
      "image/png": "[encoded data removed]",
      "text/plain": [
       "<Figure size 640x480 with 2 Axes>"
      ]
     },
     "metadata": {},
     "output_type": "display_data"
    }
   ],
   "source": [
    "from heatmaps_tools import plot_heatmap, smooth\n",
    "\n",
    "significances.columns = [float(x) for x in xu_masses]\n",
    "significances.index = [float(x) for x in phi_masses]\n",
    "# Convert data to float\n",
    "significances = significances.astype(float)\n",
    "\n",
    "\n",
    "plot_heatmap(smooth(significances))"
   ]
  },
  {
   "cell_type": "code",
   "execution_count": null,
   "metadata": {},
   "outputs": [],
   "source": []
  }
 ],
 "metadata": {
  "kernelspec": {
   "display_name": "Python 3",
   "language": "python",
   "name": "python3"
  },
  "language_info": {
   "codemirror_mode": {
    "name": "ipython",
    "version": 3
   },
   "file_extension": ".py",
   "mimetype": "text/x-python",
   "name": "python",
   "nbconvert_exporter": "python",
   "pygments_lexer": "ipython3",
   "version": "3.10.12"
  }
 },
 "nbformat": 4,
 "nbformat_minor": 2
}
